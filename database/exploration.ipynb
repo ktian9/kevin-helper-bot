{
 "cells": [
  {
   "cell_type": "code",
   "execution_count": 46,
   "metadata": {},
   "outputs": [],
   "source": [
    "import psycopg2"
   ]
  },
  {
   "cell_type": "code",
   "execution_count": 47,
   "metadata": {},
   "outputs": [],
   "source": [
    "conn = psycopg2.connect(database=\"accuweather\",\n",
    "                        host=\"localhost\",\n",
    "                        user=\"postgres\",\n",
    "                        password=\"8512201\",\n",
    "                        port=\"5432\")"
   ]
  },
  {
   "cell_type": "code",
   "execution_count": 48,
   "metadata": {},
   "outputs": [
    {
     "data": {
      "text/plain": [
       "[('Mostly cloudy',\n",
       "  'false',\n",
       "  None,\n",
       "  87.0,\n",
       "  65.0,\n",
       "  'Pleasant',\n",
       "  65.0,\n",
       "  5600.0,\n",
       "  'Not Possible',\n",
       "  '',\n",
       "  '337155',\n",
       "  'CA',\n",
       "  'United States',\n",
       "  'Mill Valley',\n",
       "  'sorairo',\n",
       "  datetime.date(2024, 8, 13),\n",
       "  datetime.date(2024, 8, 13),\n",
       "  '1271522873089200182'),\n",
       " ('Mostly cloudy',\n",
       "  'false',\n",
       "  None,\n",
       "  87.0,\n",
       "  65.0,\n",
       "  'Pleasant',\n",
       "  65.0,\n",
       "  5600.0,\n",
       "  'Not Possible',\n",
       "  '',\n",
       "  '2627279',\n",
       "  'WI',\n",
       "  'United States',\n",
       "  'Mill Valley',\n",
       "  'sorairo',\n",
       "  datetime.date(2024, 8, 13),\n",
       "  datetime.date(2024, 8, 13),\n",
       "  '1271522873089200182'),\n",
       " ('Mostly cloudy',\n",
       "  'false',\n",
       "  None,\n",
       "  87.0,\n",
       "  65.0,\n",
       "  'Pleasant',\n",
       "  65.0,\n",
       "  5600.0,\n",
       "  'Not Possible',\n",
       "  '',\n",
       "  '2627279',\n",
       "  'WI',\n",
       "  'United States',\n",
       "  'Mill Valley',\n",
       "  'sorairo',\n",
       "  datetime.date(2024, 8, 13),\n",
       "  datetime.date(2024, 8, 13),\n",
       "  '1271522873089200182')]"
      ]
     },
     "execution_count": 48,
     "metadata": {},
     "output_type": "execute_result"
    }
   ],
   "source": [
    "cursor = conn.cursor()\n",
    "cursor.execute(\"select * from daily_weather_logs\")\n",
    "cursor.fetchall()"
   ]
  },
  {
   "cell_type": "code",
   "execution_count": 49,
   "metadata": {},
   "outputs": [],
   "source": [
    "# cursor = conn.cursor()\n",
    "# cursor.execute(\"DESCRIBE daily_weather_logs;\")"
   ]
  },
  {
   "cell_type": "code",
   "execution_count": 50,
   "metadata": {},
   "outputs": [],
   "source": [
    "# cursor.execute(\n",
    "#     \"prepare insert_weather_table as \"\n",
    "#     \"INSERT INTO daily_weather_logs VALUES ($1, $2, $3, $4, $5, $6, $7, $8, $9, $10, $11, $12, $13, $14, $15, $16, $17)\")\n",
    "# for a, b, c, d, e, f, g, h, i, j, k, l, m, n, o, p, q in parameters:\n",
    "#     cur.execute(\"execute insert_weather_table (%s, %s, %s, %s, %s, %s, %s, %s, %s, %s, %s, %s, %s, %s, %s, %s, %s)\", (a, b, c, d, e, f, g, h, i, j, k, l, m, n, o, p, q))\n",
    "#     # for record in cur:\n",
    "#     #     do_something_with(record)"
   ]
  },
  {
   "cell_type": "code",
   "execution_count": 51,
   "metadata": {},
   "outputs": [
    {
     "data": {
      "text/plain": [
       "0"
      ]
     },
     "execution_count": 51,
     "metadata": {},
     "output_type": "execute_result"
    }
   ],
   "source": [
    "cursor.execute(\"select * from active_channels\")\n",
    "len(list(cursor.fetchall()))"
   ]
  },
  {
   "cell_type": "code",
   "execution_count": null,
   "metadata": {},
   "outputs": [],
   "source": []
  }
 ],
 "metadata": {
  "kernelspec": {
   "display_name": "Python 3",
   "language": "python",
   "name": "python3"
  },
  "language_info": {
   "codemirror_mode": {
    "name": "ipython",
    "version": 3
   },
   "file_extension": ".py",
   "mimetype": "text/x-python",
   "name": "python",
   "nbconvert_exporter": "python",
   "pygments_lexer": "ipython3",
   "version": "3.12.4"
  },
  "vscode": {
   "interpreter": {
    "hash": "aee8b7b246df8f9039afb4144a1f6fd8d2ca17a180786b69acc140d282b71a49"
   }
  }
 },
 "nbformat": 4,
 "nbformat_minor": 2
}
