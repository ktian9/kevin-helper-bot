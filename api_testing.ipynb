{
 "cells": [
  {
   "cell_type": "code",
   "execution_count": 5,
   "metadata": {},
   "outputs": [],
   "source": [
    "import requests\n",
    "import json"
   ]
  },
  {
   "cell_type": "code",
   "execution_count": 6,
   "metadata": {},
   "outputs": [],
   "source": [
    "f = open(\"tokens.json\")\n",
    "token = json.load(f)['accuweather']"
   ]
  },
  {
   "cell_type": "code",
   "execution_count": 7,
   "metadata": {},
   "outputs": [
    {
     "data": {
      "text/plain": [
       "'http://dataservice.accuweather.com/locations/v1/cities/autocomplete?apikey=JUqOGtPVpuEVSlWhOp997QqhlegUxVR0&q=mill%20valley'"
      ]
     },
     "execution_count": 7,
     "metadata": {},
     "output_type": "execute_result"
    }
   ],
   "source": [
    "get_query = \"http://dataservice.accuweather.com/locations/v1/cities/autocomplete?apikey=\" + token + \"&q=\"\n",
    "\n",
    "\n",
    "query = \"mill valley\"\n",
    "\n",
    "split_query = query.split(\" \")\n",
    "\n",
    "for i in split_query:\n",
    "    get_query = get_query + i +  \"%20\"\n",
    "\n",
    "get_query = get_query[:-3]\n",
    "get_query"
   ]
  },
  {
   "cell_type": "code",
   "execution_count": 8,
   "metadata": {},
   "outputs": [
    {
     "name": "stdout",
     "output_type": "stream",
     "text": [
      "[{'Version': 1, 'Key': '337155', 'Type': 'City', 'Rank': 65, 'LocalizedName': 'Mill Valley', 'Country': {'ID': 'US', 'LocalizedName': 'United States'}, 'AdministrativeArea': {'ID': 'CA', 'LocalizedName': 'California'}}, {'Version': 1, 'Key': '2627279', 'Type': 'City', 'Rank': 85, 'LocalizedName': 'Mill Valley', 'Country': {'ID': 'US', 'LocalizedName': 'United States'}, 'AdministrativeArea': {'ID': 'WI', 'LocalizedName': 'Wisconsin'}}]\n"
     ]
    }
   ],
   "source": [
    "response = requests.get(get_query) \n",
    "\n",
    "print(response.json())"
   ]
  },
  {
   "cell_type": "code",
   "execution_count": 11,
   "metadata": {},
   "outputs": [
    {
     "data": {
      "text/plain": [
       "'test2 test3'"
      ]
     },
     "execution_count": 11,
     "metadata": {},
     "output_type": "execute_result"
    }
   ],
   "source": [
    "_ = ['test', 'test2', 'test3']\n",
    "\" \".join(_[1:])\n"
   ]
  },
  {
   "cell_type": "code",
   "execution_count": 20,
   "metadata": {},
   "outputs": [
    {
     "name": "stdout",
     "output_type": "stream",
     "text": [
      "[{'LocalObservationDateTime': '2024-08-10T10:07:00-07:00', 'EpochTime': 1723309620, 'WeatherText': 'Mostly cloudy', 'WeatherIcon': 6, 'HasPrecipitation': False, 'PrecipitationType': None, 'IsDayTime': True, 'Temperature': {'Metric': {'Value': 18.2, 'Unit': 'C', 'UnitType': 17}, 'Imperial': {'Value': 65.0, 'Unit': 'F', 'UnitType': 18}}, 'RealFeelTemperature': {'Metric': {'Value': 21.8, 'Unit': 'C', 'UnitType': 17, 'Phrase': 'Pleasant'}, 'Imperial': {'Value': 71.0, 'Unit': 'F', 'UnitType': 18, 'Phrase': 'Pleasant'}}, 'RealFeelTemperatureShade': {'Metric': {'Value': 18.8, 'Unit': 'C', 'UnitType': 17, 'Phrase': 'Pleasant'}, 'Imperial': {'Value': 66.0, 'Unit': 'F', 'UnitType': 18, 'Phrase': 'Pleasant'}}, 'RelativeHumidity': 87, 'IndoorRelativeHumidity': 78, 'DewPoint': {'Metric': {'Value': 16.1, 'Unit': 'C', 'UnitType': 17}, 'Imperial': {'Value': 61.0, 'Unit': 'F', 'UnitType': 18}}, 'Wind': {'Direction': {'Degrees': 248, 'Localized': 'WSW', 'English': 'WSW'}, 'Speed': {'Metric': {'Value': 4.6, 'Unit': 'km/h', 'UnitType': 7}, 'Imperial': {'Value': 2.9, 'Unit': 'mi/h', 'UnitType': 9}}}, 'WindGust': {'Speed': {'Metric': {'Value': 6.3, 'Unit': 'km/h', 'UnitType': 7}, 'Imperial': {'Value': 3.9, 'Unit': 'mi/h', 'UnitType': 9}}}, 'UVIndex': 3, 'UVIndexText': 'Moderate', 'Visibility': {'Metric': {'Value': 24.1, 'Unit': 'km', 'UnitType': 6}, 'Imperial': {'Value': 15.0, 'Unit': 'mi', 'UnitType': 2}}, 'ObstructionsToVisibility': '', 'CloudCover': 81, 'Ceiling': {'Metric': {'Value': 1707.0, 'Unit': 'm', 'UnitType': 5}, 'Imperial': {'Value': 5600.0, 'Unit': 'ft', 'UnitType': 0}}, 'Pressure': {'Metric': {'Value': 1014.2, 'Unit': 'mb', 'UnitType': 14}, 'Imperial': {'Value': 29.95, 'Unit': 'inHg', 'UnitType': 12}}, 'PressureTendency': {'LocalizedText': 'Falling', 'Code': 'F'}, 'Past24HourTemperatureDeparture': {'Metric': {'Value': 4.1, 'Unit': 'C', 'UnitType': 17}, 'Imperial': {'Value': 7.0, 'Unit': 'F', 'UnitType': 18}}, 'ApparentTemperature': {'Metric': {'Value': 20.0, 'Unit': 'C', 'UnitType': 17}, 'Imperial': {'Value': 68.0, 'Unit': 'F', 'UnitType': 18}}, 'WindChillTemperature': {'Metric': {'Value': 18.3, 'Unit': 'C', 'UnitType': 17}, 'Imperial': {'Value': 65.0, 'Unit': 'F', 'UnitType': 18}}, 'WetBulbTemperature': {'Metric': {'Value': 17.0, 'Unit': 'C', 'UnitType': 17}, 'Imperial': {'Value': 63.0, 'Unit': 'F', 'UnitType': 18}}, 'WetBulbGlobeTemperature': {'Metric': {'Value': 19.7, 'Unit': 'C', 'UnitType': 17}, 'Imperial': {'Value': 67.0, 'Unit': 'F', 'UnitType': 18}}, 'Precip1hr': {'Metric': {'Value': 0.0, 'Unit': 'mm', 'UnitType': 3}, 'Imperial': {'Value': 0.0, 'Unit': 'in', 'UnitType': 1}}, 'PrecipitationSummary': {'Precipitation': {'Metric': {'Value': 0.0, 'Unit': 'mm', 'UnitType': 3}, 'Imperial': {'Value': 0.0, 'Unit': 'in', 'UnitType': 1}}, 'PastHour': {'Metric': {'Value': 0.0, 'Unit': 'mm', 'UnitType': 3}, 'Imperial': {'Value': 0.0, 'Unit': 'in', 'UnitType': 1}}, 'Past3Hours': {'Metric': {'Value': 0.0, 'Unit': 'mm', 'UnitType': 3}, 'Imperial': {'Value': 0.0, 'Unit': 'in', 'UnitType': 1}}, 'Past6Hours': {'Metric': {'Value': 0.0, 'Unit': 'mm', 'UnitType': 3}, 'Imperial': {'Value': 0.0, 'Unit': 'in', 'UnitType': 1}}, 'Past9Hours': {'Metric': {'Value': 0.0, 'Unit': 'mm', 'UnitType': 3}, 'Imperial': {'Value': 0.0, 'Unit': 'in', 'UnitType': 1}}, 'Past12Hours': {'Metric': {'Value': 0.0, 'Unit': 'mm', 'UnitType': 3}, 'Imperial': {'Value': 0.0, 'Unit': 'in', 'UnitType': 1}}, 'Past18Hours': {'Metric': {'Value': 0.0, 'Unit': 'mm', 'UnitType': 3}, 'Imperial': {'Value': 0.0, 'Unit': 'in', 'UnitType': 1}}, 'Past24Hours': {'Metric': {'Value': 0.0, 'Unit': 'mm', 'UnitType': 3}, 'Imperial': {'Value': 0.0, 'Unit': 'in', 'UnitType': 1}}}, 'TemperatureSummary': {'Past6HourRange': {'Minimum': {'Metric': {'Value': 8.0, 'Unit': 'C', 'UnitType': 17}, 'Imperial': {'Value': 46.0, 'Unit': 'F', 'UnitType': 18}}, 'Maximum': {'Metric': {'Value': 18.2, 'Unit': 'C', 'UnitType': 17}, 'Imperial': {'Value': 65.0, 'Unit': 'F', 'UnitType': 18}}}, 'Past12HourRange': {'Minimum': {'Metric': {'Value': 8.0, 'Unit': 'C', 'UnitType': 17}, 'Imperial': {'Value': 46.0, 'Unit': 'F', 'UnitType': 18}}, 'Maximum': {'Metric': {'Value': 18.2, 'Unit': 'C', 'UnitType': 17}, 'Imperial': {'Value': 65.0, 'Unit': 'F', 'UnitType': 18}}}, 'Past24HourRange': {'Minimum': {'Metric': {'Value': 8.0, 'Unit': 'C', 'UnitType': 17}, 'Imperial': {'Value': 46.0, 'Unit': 'F', 'UnitType': 18}}, 'Maximum': {'Metric': {'Value': 22.4, 'Unit': 'C', 'UnitType': 17}, 'Imperial': {'Value': 72.0, 'Unit': 'F', 'UnitType': 18}}}}, 'MobileLink': 'http://www.accuweather.com/en/us/mill-valley-ca/94941/current-weather/337155?lang=en-us', 'Link': 'http://www.accuweather.com/en/us/mill-valley-ca/94941/current-weather/337155?lang=en-us'}]\n"
     ]
    }
   ],
   "source": [
    "get_query = \"http://dataservice.accuweather.com/currentconditions/v1/337155?&apikey=\" + token + \"&details=true\"\n",
    "response = requests.get(get_query) \n",
    "\n",
    "print(response.json())"
   ]
  },
  {
   "cell_type": "code",
   "execution_count": 22,
   "metadata": {},
   "outputs": [
    {
     "data": {
      "text/plain": [
       "{'LocalObservationDateTime': '2024-08-10T10:07:00-07:00',\n",
       " 'EpochTime': 1723309620,\n",
       " 'WeatherText': 'Mostly cloudy',\n",
       " 'WeatherIcon': 6,\n",
       " 'HasPrecipitation': False,\n",
       " 'PrecipitationType': None,\n",
       " 'IsDayTime': True,\n",
       " 'Temperature': {'Metric': {'Value': 18.2, 'Unit': 'C', 'UnitType': 17},\n",
       "  'Imperial': {'Value': 65.0, 'Unit': 'F', 'UnitType': 18}},\n",
       " 'RealFeelTemperature': {'Metric': {'Value': 21.8,\n",
       "   'Unit': 'C',\n",
       "   'UnitType': 17,\n",
       "   'Phrase': 'Pleasant'},\n",
       "  'Imperial': {'Value': 71.0,\n",
       "   'Unit': 'F',\n",
       "   'UnitType': 18,\n",
       "   'Phrase': 'Pleasant'}},\n",
       " 'RealFeelTemperatureShade': {'Metric': {'Value': 18.8,\n",
       "   'Unit': 'C',\n",
       "   'UnitType': 17,\n",
       "   'Phrase': 'Pleasant'},\n",
       "  'Imperial': {'Value': 66.0,\n",
       "   'Unit': 'F',\n",
       "   'UnitType': 18,\n",
       "   'Phrase': 'Pleasant'}},\n",
       " 'RelativeHumidity': 87,\n",
       " 'IndoorRelativeHumidity': 78,\n",
       " 'DewPoint': {'Metric': {'Value': 16.1, 'Unit': 'C', 'UnitType': 17},\n",
       "  'Imperial': {'Value': 61.0, 'Unit': 'F', 'UnitType': 18}},\n",
       " 'Wind': {'Direction': {'Degrees': 248, 'Localized': 'WSW', 'English': 'WSW'},\n",
       "  'Speed': {'Metric': {'Value': 4.6, 'Unit': 'km/h', 'UnitType': 7},\n",
       "   'Imperial': {'Value': 2.9, 'Unit': 'mi/h', 'UnitType': 9}}},\n",
       " 'WindGust': {'Speed': {'Metric': {'Value': 6.3,\n",
       "    'Unit': 'km/h',\n",
       "    'UnitType': 7},\n",
       "   'Imperial': {'Value': 3.9, 'Unit': 'mi/h', 'UnitType': 9}}},\n",
       " 'UVIndex': 3,\n",
       " 'UVIndexText': 'Moderate',\n",
       " 'Visibility': {'Metric': {'Value': 24.1, 'Unit': 'km', 'UnitType': 6},\n",
       "  'Imperial': {'Value': 15.0, 'Unit': 'mi', 'UnitType': 2}},\n",
       " 'ObstructionsToVisibility': '',\n",
       " 'CloudCover': 81,\n",
       " 'Ceiling': {'Metric': {'Value': 1707.0, 'Unit': 'm', 'UnitType': 5},\n",
       "  'Imperial': {'Value': 5600.0, 'Unit': 'ft', 'UnitType': 0}},\n",
       " 'Pressure': {'Metric': {'Value': 1014.2, 'Unit': 'mb', 'UnitType': 14},\n",
       "  'Imperial': {'Value': 29.95, 'Unit': 'inHg', 'UnitType': 12}},\n",
       " 'PressureTendency': {'LocalizedText': 'Falling', 'Code': 'F'},\n",
       " 'Past24HourTemperatureDeparture': {'Metric': {'Value': 4.1,\n",
       "   'Unit': 'C',\n",
       "   'UnitType': 17},\n",
       "  'Imperial': {'Value': 7.0, 'Unit': 'F', 'UnitType': 18}},\n",
       " 'ApparentTemperature': {'Metric': {'Value': 20.0,\n",
       "   'Unit': 'C',\n",
       "   'UnitType': 17},\n",
       "  'Imperial': {'Value': 68.0, 'Unit': 'F', 'UnitType': 18}},\n",
       " 'WindChillTemperature': {'Metric': {'Value': 18.3,\n",
       "   'Unit': 'C',\n",
       "   'UnitType': 17},\n",
       "  'Imperial': {'Value': 65.0, 'Unit': 'F', 'UnitType': 18}},\n",
       " 'WetBulbTemperature': {'Metric': {'Value': 17.0, 'Unit': 'C', 'UnitType': 17},\n",
       "  'Imperial': {'Value': 63.0, 'Unit': 'F', 'UnitType': 18}},\n",
       " 'WetBulbGlobeTemperature': {'Metric': {'Value': 19.7,\n",
       "   'Unit': 'C',\n",
       "   'UnitType': 17},\n",
       "  'Imperial': {'Value': 67.0, 'Unit': 'F', 'UnitType': 18}},\n",
       " 'Precip1hr': {'Metric': {'Value': 0.0, 'Unit': 'mm', 'UnitType': 3},\n",
       "  'Imperial': {'Value': 0.0, 'Unit': 'in', 'UnitType': 1}},\n",
       " 'PrecipitationSummary': {'Precipitation': {'Metric': {'Value': 0.0,\n",
       "    'Unit': 'mm',\n",
       "    'UnitType': 3},\n",
       "   'Imperial': {'Value': 0.0, 'Unit': 'in', 'UnitType': 1}},\n",
       "  'PastHour': {'Metric': {'Value': 0.0, 'Unit': 'mm', 'UnitType': 3},\n",
       "   'Imperial': {'Value': 0.0, 'Unit': 'in', 'UnitType': 1}},\n",
       "  'Past3Hours': {'Metric': {'Value': 0.0, 'Unit': 'mm', 'UnitType': 3},\n",
       "   'Imperial': {'Value': 0.0, 'Unit': 'in', 'UnitType': 1}},\n",
       "  'Past6Hours': {'Metric': {'Value': 0.0, 'Unit': 'mm', 'UnitType': 3},\n",
       "   'Imperial': {'Value': 0.0, 'Unit': 'in', 'UnitType': 1}},\n",
       "  'Past9Hours': {'Metric': {'Value': 0.0, 'Unit': 'mm', 'UnitType': 3},\n",
       "   'Imperial': {'Value': 0.0, 'Unit': 'in', 'UnitType': 1}},\n",
       "  'Past12Hours': {'Metric': {'Value': 0.0, 'Unit': 'mm', 'UnitType': 3},\n",
       "   'Imperial': {'Value': 0.0, 'Unit': 'in', 'UnitType': 1}},\n",
       "  'Past18Hours': {'Metric': {'Value': 0.0, 'Unit': 'mm', 'UnitType': 3},\n",
       "   'Imperial': {'Value': 0.0, 'Unit': 'in', 'UnitType': 1}},\n",
       "  'Past24Hours': {'Metric': {'Value': 0.0, 'Unit': 'mm', 'UnitType': 3},\n",
       "   'Imperial': {'Value': 0.0, 'Unit': 'in', 'UnitType': 1}}},\n",
       " 'TemperatureSummary': {'Past6HourRange': {'Minimum': {'Metric': {'Value': 8.0,\n",
       "     'Unit': 'C',\n",
       "     'UnitType': 17},\n",
       "    'Imperial': {'Value': 46.0, 'Unit': 'F', 'UnitType': 18}},\n",
       "   'Maximum': {'Metric': {'Value': 18.2, 'Unit': 'C', 'UnitType': 17},\n",
       "    'Imperial': {'Value': 65.0, 'Unit': 'F', 'UnitType': 18}}},\n",
       "  'Past12HourRange': {'Minimum': {'Metric': {'Value': 8.0,\n",
       "     'Unit': 'C',\n",
       "     'UnitType': 17},\n",
       "    'Imperial': {'Value': 46.0, 'Unit': 'F', 'UnitType': 18}},\n",
       "   'Maximum': {'Metric': {'Value': 18.2, 'Unit': 'C', 'UnitType': 17},\n",
       "    'Imperial': {'Value': 65.0, 'Unit': 'F', 'UnitType': 18}}},\n",
       "  'Past24HourRange': {'Minimum': {'Metric': {'Value': 8.0,\n",
       "     'Unit': 'C',\n",
       "     'UnitType': 17},\n",
       "    'Imperial': {'Value': 46.0, 'Unit': 'F', 'UnitType': 18}},\n",
       "   'Maximum': {'Metric': {'Value': 22.4, 'Unit': 'C', 'UnitType': 17},\n",
       "    'Imperial': {'Value': 72.0, 'Unit': 'F', 'UnitType': 18}}}},\n",
       " 'MobileLink': 'http://www.accuweather.com/en/us/mill-valley-ca/94941/current-weather/337155?lang=en-us',\n",
       " 'Link': 'http://www.accuweather.com/en/us/mill-valley-ca/94941/current-weather/337155?lang=en-us'}"
      ]
     },
     "execution_count": 22,
     "metadata": {},
     "output_type": "execute_result"
    }
   ],
   "source": [
    "response.json()[0]"
   ]
  },
  {
   "cell_type": "code",
   "execution_count": 29,
   "metadata": {},
   "outputs": [
    {
     "name": "stdout",
     "output_type": "stream",
     "text": [
      "{'Code': 'Unauthorized', 'Message': 'Api Authorization failed', 'Reference': '/imagery/v1/maps/radsat/480/337155?apikey=JUqOGtPVpuEVSlWhOp997QqhlegUxVR0'}\n"
     ]
    }
   ],
   "source": [
    "response = requests.get(\"http://dataservice.accuweather.com/imagery/v1/maps/radsat/480/337155?apikey=JUqOGtPVpuEVSlWhOp997QqhlegUxVR0\") \n",
    "\n",
    "print(response.json())"
   ]
  },
  {
   "cell_type": "code",
   "execution_count": 1,
   "metadata": {},
   "outputs": [],
   "source": [
    "from PIL import Image\n",
    "import os, os.path\n"
   ]
  },
  {
   "cell_type": "code",
   "execution_count": 4,
   "metadata": {},
   "outputs": [],
   "source": [
    "img = (Image.open(os.path.join(\"./weather_icons\",str(6)+str(\".png\"))))\n"
   ]
  },
  {
   "cell_type": "code",
   "execution_count": 5,
   "metadata": {},
   "outputs": [
    {
     "data": {
      "image/png": "[encoded data removed]",
      "text/plain": [
       "<PIL.PngImagePlugin.PngImageFile image mode=RGBA size=75x45>"
      ]
     },
     "execution_count": 5,
     "metadata": {},
     "output_type": "execute_result"
    }
   ],
   "source": [
    "img"
   ]
  }
 ],
 "metadata": {
  "kernelspec": {
   "display_name": "base",
   "language": "python",
   "name": "python3"
  },
  "language_info": {
   "codemirror_mode": {
    "name": "ipython",
    "version": 3
   },
   "file_extension": ".py",
   "mimetype": "text/x-python",
   "name": "python",
   "nbconvert_exporter": "python",
   "pygments_lexer": "ipython3",
   "version": "3.12.4"
  },
  "orig_nbformat": 4,
  "vscode": {
   "interpreter": {
    "hash": "ae5777a54bbbe87e125dfd29d9d87d63d9b4c4953ec038255ade7138558ba986"
   }
  }
 },
 "nbformat": 4,
 "nbformat_minor": 2
}
