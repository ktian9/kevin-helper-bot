{
 "cells": [
  {
   "cell_type": "code",
   "execution_count": 1,
   "metadata": {},
   "outputs": [],
   "source": [
    "import requests\n",
    "import json"
   ]
  },
  {
   "cell_type": "code",
   "execution_count": 2,
   "metadata": {},
   "outputs": [],
   "source": [
    "f = open(\"tokens.json\")\n",
    "token = json.load(f)['accuweather']"
   ]
  },
  {
   "cell_type": "code",
   "execution_count": 7,
   "metadata": {},
   "outputs": [
    {
     "data": {
      "text/plain": [
       "'http://dataservice.accuweather.com/locations/v1/cities/autocomplete?apikey=JUqOGtPVpuEVSlWhOp997QqhlegUxVR0&q=mill%20valley'"
      ]
     },
     "execution_count": 7,
     "metadata": {},
     "output_type": "execute_result"
    }
   ],
   "source": [
    "get_query = \"http://dataservice.accuweather.com/locations/v1/cities/autocomplete?apikey=\" + token + \"&q=\"\n",
    "\n",
    "\n",
    "query = \"mill valley\"\n",
    "\n",
    "split_query = query.split(\" \")\n",
    "\n",
    "for i in split_query:\n",
    "    get_query = get_query + i +  \"%20\"\n",
    "\n",
    "get_query = get_query[:-3]\n",
    "get_query"
   ]
  },
  {
   "cell_type": "code",
   "execution_count": 8,
   "metadata": {},
   "outputs": [
    {
     "name": "stdout",
     "output_type": "stream",
     "text": [
      "[{'Version': 1, 'Key': '337155', 'Type': 'City', 'Rank': 65, 'LocalizedName': 'Mill Valley', 'Country': {'ID': 'US', 'LocalizedName': 'United States'}, 'AdministrativeArea': {'ID': 'CA', 'LocalizedName': 'California'}}, {'Version': 1, 'Key': '2627279', 'Type': 'City', 'Rank': 85, 'LocalizedName': 'Mill Valley', 'Country': {'ID': 'US', 'LocalizedName': 'United States'}, 'AdministrativeArea': {'ID': 'WI', 'LocalizedName': 'Wisconsin'}}]\n"
     ]
    }
   ],
   "source": [
    "response = requests.get(get_query) \n",
    "\n",
    "print(response.json())"
   ]
  },
  {
   "cell_type": "code",
   "execution_count": null,
   "metadata": {},
   "outputs": [],
   "source": []
  }
 ],
 "metadata": {
  "kernelspec": {
   "display_name": "base",
   "language": "python",
   "name": "python3"
  },
  "language_info": {
   "codemirror_mode": {
    "name": "ipython",
    "version": 3
   },
   "file_extension": ".py",
   "mimetype": "text/x-python",
   "name": "python",
   "nbconvert_exporter": "python",
   "pygments_lexer": "ipython3",
   "version": "3.9.13"
  },
  "orig_nbformat": 4,
  "vscode": {
   "interpreter": {
    "hash": "ae5777a54bbbe87e125dfd29d9d87d63d9b4c4953ec038255ade7138558ba986"
   }
  }
 },
 "nbformat": 4,
 "nbformat_minor": 2
}
